{
  "nbformat": 4,
  "nbformat_minor": 0,
  "metadata": {
    "kernelspec": {
      "display_name": "Python 3",
      "language": "python",
      "name": "python3"
    },
    "language_info": {
      "codemirror_mode": {
        "name": "ipython",
        "version": 3
      },
      "file_extension": ".py",
      "mimetype": "text/x-python",
      "name": "python",
      "nbconvert_exporter": "python",
      "pygments_lexer": "ipython3",
      "version": "3.8.5"
    },
    "colab": {
      "name": "Selenium_send_zap.ipynb",
      "provenance": [],
      "include_colab_link": true
    }
  },
  "cells": [
    {
      "cell_type": "markdown",
      "metadata": {
        "id": "view-in-github",
        "colab_type": "text"
      },
      "source": [
        "<a href=\"https://colab.research.google.com/github/lfhillesheim/automatization_python/blob/main/Selenium_send_zap.ipynb\" target=\"_parent\"><img src=\"https://colab.research.google.com/assets/colab-badge.svg\" alt=\"Open In Colab\"/></a>"
      ]
    },
    {
      "cell_type": "markdown",
      "metadata": {
        "id": "CA94AgEU6h99"
      },
      "source": [
        "# Objetivo: Enviar mensagem para várias pessoas ou grupos automaticamente"
      ]
    },
    {
      "cell_type": "code",
      "metadata": {
        "id": "8VEITF2l6h-F"
      },
      "source": [
        "import pandas as pd\n",
        "from selenium import webdriver\n",
        "from selenium.webdriver.common.keys import Keys\n",
        "import time\n",
        "import urllib\n"
      ],
      "execution_count": null,
      "outputs": []
    },
    {
      "cell_type": "code",
      "metadata": {
        "id": "f0snWTJ868OJ"
      },
      "source": [
        "contatos_df = pd.read_excel(\"arquivo.xlsx\")"
      ],
      "execution_count": null,
      "outputs": []
    },
    {
      "cell_type": "code",
      "metadata": {
        "id": "9CazcJBA6h-H"
      },
      "source": [
        "\n",
        "\n",
        "navegador = webdriver.Chrome()\n",
        "navegador.get(\"https://web.whatsapp.com/\")\n",
        "\n",
        "while len(navegador.find_elements_by_id(\"side\")) < 1:\n",
        "    time.sleep(1)\n",
        "\n",
        "\n",
        "\n",
        "for i, mensagem in enumerate(contatos_df['Mensagem']):\n",
        "    pessoa = contatos_df.loc[i, \"Pessoa\"]\n",
        "    numero = contatos_df.loc[i, \"Número\"]\n",
        "    texto = urllib.parse.quote(f\"Eaiii {pessoa}! {mensagem}\")\n",
        "    link = f\"https://web.whatsapp.com/send?phone={numero}&text={texto}\"\n",
        "    navegador.get(link)\n",
        "    while len(navegador.find_elements_by_id(\"side\")) < 1:\n",
        "        time.sleep(1)\n",
        "    navegador.find_element_by_xpath('//*[@id=\"main\"]/footer/div[1]/div[2]/div/div[2]').send_keys(Keys.ENTER)\n",
        "    time.sleep(10)      \n",
        "    "
      ],
      "execution_count": null,
      "outputs": []
    }
  ]
}