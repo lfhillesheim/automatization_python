{
 "cells": [
  {
   "cell_type": "code",
   "execution_count": 26,
   "metadata": {},
   "outputs": [],
   "source": [
    "import pandas as pd\n",
    "import pyodbc"
   ]
  },
  {
   "cell_type": "code",
   "execution_count": 27,
   "metadata": {},
   "outputs": [
    {
     "name": "stdout",
     "output_type": "stream",
     "text": [
      "Conexão com o banco de dados bem sucedida \n"
     ]
    }
   ],
   "source": [
    "dados_conexao =  pyodbc.connect(\"Driver={xxxxxx};\"\n",
    "               \"Server=xxx.xxx.xxx;\"\n",
    "               \"Database=xxxxxxxx;\"\n",
    "                \"UID=sa;\"\n",
    "                \"PWD=Jxxxxxxx;\")\n",
    "\n",
    "cursor = dados_conexao.cursor()\n",
    "print('Conexão com o banco de dados bem sucedida ')"
   ]
  },
  {
   "cell_type": "code",
   "execution_count": 28,
   "metadata": {},
   "outputs": [],
   "source": [
    "xls = pd.ExcelFile(r\"C:\\automatization\\resultado_cnp_planilha-importação_GTIN-13.xlsx\")\n",
    "num = 0\n",
    "tabela_cnp_aprovado = pd.read_excel(xls, 'GTIN-13', skiprows = range(0, 2) )\n",
    "tabela_cnp_aprovado_filtrada = tabela_cnp_aprovado.loc[:,['GTIN','Código']]"
   ]
  },
  {
   "cell_type": "code",
   "execution_count": null,
   "metadata": {},
   "outputs": [
    {
     "name": "stdout",
     "output_type": "stream",
     "text": [
      "Item 1 | Codigo de barra 7908403933006 | Produto+COR+Tamanho  36.26.0127BR02P\n",
      "Item 2 | Codigo de barra 7908403933013 | Produto+COR+Tamanho  36.26.0127BR02M\n",
      "Item 3 | Codigo de barra 7908403933020 | Produto+COR+Tamanho  36.26.0127BR02G\n",
      "Item 4 | Codigo de barra 7908403933037 | Produto+COR+Tamanho  36.26.0127LA03P\n",
      "Item 5 | Codigo de barra 7908403933044 | Produto+COR+Tamanho  36.26.0127LA03M\n",
      "Item 6 | Codigo de barra 7908403933051 | Produto+COR+Tamanho  36.26.0127LA03G\n",
      "Item 7 | Codigo de barra 7908403933068 | Produto+COR+Tamanho  01.01.1232PR10P\n",
      "Item 8 | Codigo de barra 7908403933075 | Produto+COR+Tamanho  01.01.1232PR10M\n",
      "Item 9 | Codigo de barra 7908403933082 | Produto+COR+Tamanho  01.01.1232PR10G\n",
      "Item 10 | Codigo de barra 7908403933099 | Produto+COR+Tamanho  01.01.1232PR10GG\n",
      "Item 11 | Codigo de barra 7908403933105 | Produto+COR+Tamanho  01.01.1232RX07P\n",
      "Item 12 | Codigo de barra 7908403933112 | Produto+COR+Tamanho  01.01.1232RX07M\n",
      "Item 13 | Codigo de barra 7908403933129 | Produto+COR+Tamanho  01.01.1232RX07G\n",
      "Item 14 | Codigo de barra 7908403933136 | Produto+COR+Tamanho  01.01.1232RX07GG\n",
      "Item 15 | Codigo de barra 7908403933143 | Produto+COR+Tamanho  01.11.0448AZ05P\n",
      "Item 16 | Codigo de barra 7908403933150 | Produto+COR+Tamanho  01.11.0448AZ05M\n",
      "Item 17 | Codigo de barra 7908403933167 | Produto+COR+Tamanho  01.11.0448AZ05G\n",
      "Item 18 | Codigo de barra 7908403933174 | Produto+COR+Tamanho  01.11.0448AZ05GG\n",
      "Item 19 | Codigo de barra 7908403933181 | Produto+COR+Tamanho  01.11.0448BR02P\n",
      "Item 20 | Codigo de barra 7908403933198 | Produto+COR+Tamanho  01.11.0448BR02M\n",
      "Item 21 | Codigo de barra 7908403933204 | Produto+COR+Tamanho  01.11.0448BR02G\n",
      "Item 22 | Codigo de barra 7908403933211 | Produto+COR+Tamanho  01.11.0448BR02GG\n",
      "Item 23 | Codigo de barra 7908403933228 | Produto+COR+Tamanho  01.11.0448PR10P\n",
      "Item 24 | Codigo de barra 7908403933235 | Produto+COR+Tamanho  01.11.0448PR10M\n",
      "Item 25 | Codigo de barra 7908403933242 | Produto+COR+Tamanho  01.11.0448PR10G\n",
      "Item 26 | Codigo de barra 7908403933259 | Produto+COR+Tamanho  01.11.0448PR10GG\n",
      "Item 27 | Codigo de barra 7908403933266 | Produto+COR+Tamanho  01.11.0473AZ07P\n",
      "Item 28 | Codigo de barra 7908403933273 | Produto+COR+Tamanho  01.11.0473AZ07M\n",
      "Item 29 | Codigo de barra 7908403933280 | Produto+COR+Tamanho  01.11.0473AZ07G\n",
      "Item 30 | Codigo de barra 7908403933297 | Produto+COR+Tamanho  01.11.0473AZ07GG\n",
      "Item 31 | Codigo de barra 7908403933303 | Produto+COR+Tamanho  01.11.0473BE01P\n",
      "Item 32 | Codigo de barra 7908403933310 | Produto+COR+Tamanho  01.11.0473BE01M\n",
      "Item 33 | Codigo de barra 7908403933327 | Produto+COR+Tamanho  01.11.0473BE01G\n",
      "Item 34 | Codigo de barra 7908403933334 | Produto+COR+Tamanho  01.11.0473BE01GG\n"
     ]
    }
   ],
   "source": [
    "tamanho = (len(tabela_cnp_aprovado_filtrada))\n",
    "\n",
    "df_produtos = pd.DataFrame(tabela_cnp_aprovado_filtrada, columns = ['GTIN','Código']) \n",
    "\n",
    "df_produtos['GTIN'] = df_produtos['GTIN'].astype(str) \n",
    "\n",
    "for i in df_produtos.index:\n",
    "    num+= 1\n",
    "    codigo_barra = df_produtos['GTIN']\n",
    "    \n",
    "    codigo_produto = df_produtos['Código']\n",
    "    \n",
    "    codigo_barra.replace('.0','')\n",
    "    \n",
    "    update = str(\"update PRODUTOS_BARRA set CODIGO_BARRA = '{COD_BAR}', CODIGO_BARRA_PADRAO = '1' FROM PRODUTOS_BARRA PB (NOLOCK)  INNER JOIN PRODUTO_CORES PC ON PC.PRODUTO=PB.PRODUTO AND PC.COR_PRODUTO=PB.COR_PRODUTO INNER JOIN PRODUTOS P (NOLOCK) ON P.PRODUTO=PB.PRODUTO where RTRIM(PB.PRODUTO)+RTRIM (PB.COR_PRODUTO)+RTRIM(PB.GRADE) = '{COD_PROD}'\".format(COD_BAR=codigo_barra[i].replace('.0',''),COD_PROD=codigo_produto[i]))\n",
    "    sucess = str(\"Item {NUM} | Codigo de barra {COD_BAR} | Produto+COR+Tamanho  {COD_PROD}\".format(NUM=num,COD_BAR=codigo_barra[i].replace('.0',''),COD_PROD=codigo_produto[i]))\n",
    "    cursor.execute(update)\n",
    "    dados_conexao.commit()\n",
    "    print(sucess)\n",
    "    \n",
    "input('Terminei')\n",
    "\n",
    "\n"
   ]
  },
  {
   "cell_type": "code",
   "execution_count": null,
   "metadata": {},
   "outputs": [],
   "source": []
  },
  {
   "cell_type": "code",
   "execution_count": null,
   "metadata": {},
   "outputs": [],
   "source": []
  }
 ],
 "metadata": {
  "kernelspec": {
   "display_name": "Python 3",
   "language": "python",
   "name": "python3"
  },
  "language_info": {
   "codemirror_mode": {
    "name": "ipython",
    "version": 3
   },
   "file_extension": ".py",
   "mimetype": "text/x-python",
   "name": "python",
   "nbconvert_exporter": "python",
   "pygments_lexer": "ipython3",
   "version": "3.8.5"
  }
 },
 "nbformat": 4,
 "nbformat_minor": 4
}
